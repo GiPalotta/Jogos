{
  "nbformat": 4,
  "nbformat_minor": 0,
  "metadata": {
    "colab": {
      "provenance": [],
      "authorship_tag": "ABX9TyPUsX9wjQM5yubjX8gr7u42",
      "include_colab_link": true
    },
    "kernelspec": {
      "name": "python3",
      "display_name": "Python 3"
    },
    "language_info": {
      "name": "python"
    }
  },
  "cells": [
    {
      "cell_type": "markdown",
      "metadata": {
        "id": "view-in-github",
        "colab_type": "text"
      },
      "source": [
        "<a href=\"https://colab.research.google.com/github/GiPalotta/Jogos/blob/main/Forca.ipynb\" target=\"_parent\"><img src=\"https://colab.research.google.com/assets/colab-badge.svg\" alt=\"Open In Colab\"/></a>"
      ]
    },
    {
      "cell_type": "code",
      "execution_count": null,
      "metadata": {
        "colab": {
          "base_uri": "https://localhost:8080/"
        },
        "id": "hXxV-XHTgwA9",
        "outputId": "c41c66a5-f0cd-4d0f-edc7-c2e6f003ab18"
      },
      "outputs": [
        {
          "output_type": "stream",
          "name": "stdout",
          "text": [
            "***********************\n",
            "**** Jogo da Forca ****\n",
            "***********************\n",
            "['_', '_', '_', '_', '_', '_', '_']\n",
            "Jogando...\n",
            "***********************\n"
          ]
        }
      ],
      "source": [
        "import random\n",
        "\n",
        "def jogar():\n",
        "    print('***********************')\n",
        "    print('**** Jogo da Forca ****')\n",
        "    print('***********************')\n",
        "\n",
        "    arquivo = open('palavras.txt', 'w')\n",
        "    arquivo.write('banana\\n')\n",
        "    arquivo.write('melancia\\n')\n",
        "    arquivo.write('uva\\n')\n",
        "    arquivo.write('morango\\n')\n",
        "    arquivo.write('pera\\n')\n",
        "    arquivo.write('carambola\\n')\n",
        "    arquivo.write('goiaba\\n')\n",
        "    arquivo.write('maça\\n')\n",
        "    arquivo.write('laranja\\n')\n",
        "    arquivo.write('amora\\n')\n",
        "    arquivo.write('manga\\n')\n",
        "    arquivo.write('pessego\\n')\n",
        "    arquivo.write('abacaxi\\n')\n",
        "    arquivo.write('abacate\\n')\n",
        "    arquivo.write('abobora\\n')\n",
        "\n",
        "    arquivo.close()\n",
        "\n",
        "    arquivo = open('palavras.txt', 'r')\n",
        "    palavras = []\n",
        "\n",
        "    for linha in arquivo:\n",
        "        linha = linha.strip()\n",
        "        palavras.append(linha)\n",
        "\n",
        "    arquivo.close()\n",
        "\n",
        "    numero = random.randrange(0, len(palavras))\n",
        "\n",
        "    palavra_secreta = palavras[numero].upper()\n",
        "    letras_acertadas = ['_' for letra in palavra_secreta]\n",
        "\n",
        "    enforcou = False\n",
        "    acertou = False\n",
        "    erros = 0\n",
        "\n",
        "    print(letras_acertadas)\n",
        "\n",
        "    while not enforcou and not acertou:\n",
        "        print('Jogando...')\n",
        "        print('***********************')\n",
        "        chute = input('Qual letra? ')\n",
        "        chute = chute.strip().upper()\n",
        "        if chute in palavra_secreta:\n",
        "            posicao = 0\n",
        "            for letra in palavra_secreta:\n",
        "                if chute.upper() == letra.upper():\n",
        "                    letras_acertadas[posicao] = letra\n",
        "                posicao += 1\n",
        "        else:\n",
        "            erros += 1\n",
        "            print('A letra {} não está na palavra secreta'.format(chute))\n",
        "\n",
        "        enforcou = erros == 6\n",
        "        acertou = '_' not in letras_acertadas\n",
        "        print(letras_acertadas)\n",
        "\n",
        "    if acertou:\n",
        "        print('Você ganhou!')\n",
        "        print('Você encontrou a palavra com apenas {} erros! Parabéns!' .format(erros))\n",
        "    else:\n",
        "        print('Você perdeu!')\n",
        "        print('Você ultrapassou chegou ao limite de erros e perdeu o jogo! A palavra era {}. Tente novamente!' .format(palavra_secreta))\n",
        "    print('Fim do jogo!')\n",
        "    print('***********************')\n",
        "\n",
        "while True:\n",
        "    jogar()\n",
        "    jogar_novamente = input('Deseja jogar novamente? (s para sim, qualquer outra tecla para não): ').strip().lower()\n",
        "    if jogar_novamente != 's':\n",
        "        break"
      ]
    }
  ]
}