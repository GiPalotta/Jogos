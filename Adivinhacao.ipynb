{
  "nbformat": 4,
  "nbformat_minor": 0,
  "metadata": {
    "colab": {
      "provenance": [],
      "toc_visible": true,
      "authorship_tag": "ABX9TyMt5QJ598jg6D1tM47mrcyL",
      "include_colab_link": true
    },
    "kernelspec": {
      "name": "python3",
      "display_name": "Python 3"
    },
    "language_info": {
      "name": "python"
    }
  },
  "cells": [
    {
      "cell_type": "markdown",
      "metadata": {
        "id": "view-in-github",
        "colab_type": "text"
      },
      "source": [
        "<a href=\"https://colab.research.google.com/github/GiPalotta/Menu-de-Jogos/blob/main/Adivinhacao.ipynb\" target=\"_parent\"><img src=\"https://colab.research.google.com/assets/colab-badge.svg\" alt=\"Open In Colab\"/></a>"
      ]
    },
    {
      "cell_type": "code",
      "execution_count": null,
      "metadata": {
        "colab": {
          "base_uri": "https://localhost:8080/"
        },
        "id": "DywzbrrZcN19",
        "outputId": "40833db2-141c-4745-afdd-3bbbe470c145"
      },
      "outputs": [
        {
          "output_type": "stream",
          "name": "stdout",
          "text": [
            "***********************\n",
            "* Jogo da adivinhação *\n",
            "***********************\n",
            "Tentativa 1 de 10\n"
          ]
        }
      ],
      "source": [
        "import random\n",
        "\n",
        "def jogar():\n",
        "    print('***********************')\n",
        "    print('* Jogo da adivinhação *')\n",
        "    print('***********************')\n",
        "\n",
        "    numero_secreto = random.randint(1, 100)\n",
        "    total_de_tentativas = 10\n",
        "\n",
        "    for rodada in range(1, total_de_tentativas + 1):\n",
        "        print('Tentativa {} de {}' .format(rodada, total_de_tentativas))\n",
        "\n",
        "        chute = int(input('Digite seu número de 1 a 100: '))\n",
        "        print('Você digitou: ', chute)\n",
        "\n",
        "        acertou = numero_secreto == chute\n",
        "        maior = chute > numero_secreto\n",
        "        menor = chute < numero_secreto\n",
        "\n",
        "        if acertou:\n",
        "            print('Você acertou! Parabéns!\\n')\n",
        "            break\n",
        "        elif maior:\n",
        "            print('Você errou! O seu chute foi maior que o número secreto\\n')\n",
        "        elif menor:\n",
        "            print('Você errou! O seu chute foi menor que o número secreto\\n')\n",
        "\n",
        "    if not acertou:\n",
        "        print('Você perdeu! O número secreto era {}\\n' .format(numero_secreto))\n",
        "    print('Fim do jogo!')\n",
        "jogar()"
      ]
    }
  ]
}